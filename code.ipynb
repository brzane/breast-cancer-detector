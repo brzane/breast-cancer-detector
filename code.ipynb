{
 "cells": [
  {
   "cell_type": "code",
   "execution_count": 1,
   "id": "bd986312",
   "metadata": {
    "execution": {
     "iopub.execute_input": "2021-11-07T16:24:50.368231Z",
     "iopub.status.busy": "2021-11-07T16:24:50.366896Z",
     "iopub.status.idle": "2021-11-07T16:24:57.295158Z",
     "shell.execute_reply": "2021-11-07T16:24:57.293534Z",
     "shell.execute_reply.started": "2021-11-07T16:04:53.232589Z"
    },
    "papermill": {
     "duration": 6.943388,
     "end_time": "2021-11-07T16:24:57.295440",
     "exception": false,
     "start_time": "2021-11-07T16:24:50.352052",
     "status": "completed"
    },
    "tags": []
   },
   "outputs": [],
   "source": [
    "import numpy as np\n",
    "import pandas as pd\n",
    "import os\n",
    "import itertools\n",
    "import os, stat, time\n",
    "from os.path import dirname as up\n",
    "import shutil\n",
    "from PIL import Image\n",
    "from tqdm.notebook import tqdm\n",
    "import matplotlib.pyplot as plt\n",
    "import matplotlib.image as mpimg\n",
    "import cv2\n",
    "import os \n",
    "\n",
    "os.environ['TF_XLA_FLAGS'] = '--tf_xla_enable_xla_devices'\n",
    "\n",
    "from sklearn.model_selection import train_test_split\n",
    "from tensorflow.keras.utils import to_categorical\n",
    "\n",
    "from tensorflow.keras import Sequential\n",
    "from tensorflow.keras.optimizers import SGD, RMSprop, Adam, Adagrad, Adadelta\n",
    "from keras.layers import Dense, Dropout, Activation, Flatten, BatchNormalization, Conv2D, MaxPool2D, MaxPooling2D\n",
    "from tensorflow.keras.callbacks import EarlyStopping"
   ]
  },
  {
   "cell_type": "code",
   "execution_count": 2,
   "id": "0ac597b0",
   "metadata": {
    "execution": {
     "iopub.execute_input": "2021-11-07T16:24:57.323667Z",
     "iopub.status.busy": "2021-11-07T16:24:57.322871Z",
     "iopub.status.idle": "2021-11-07T16:25:39.210330Z",
     "shell.execute_reply": "2021-11-07T16:25:39.210847Z",
     "shell.execute_reply.started": "2021-11-07T16:10:54.509365Z"
    },
    "papermill": {
     "duration": 41.905477,
     "end_time": "2021-11-07T16:25:39.211030",
     "exception": false,
     "start_time": "2021-11-07T16:24:57.305553",
     "status": "completed"
    },
    "tags": []
   },
   "outputs": [
    {
     "data": {
      "application/vnd.jupyter.widget-view+json": {
       "model_id": "c06b99a10af147ae8a5bd8b591bf75c9",
       "version_major": 2,
       "version_minor": 0
      },
      "text/plain": [
       "  0%|          | 0/279 [00:00<?, ?it/s]"
      ]
     },
     "metadata": {},
     "output_type": "display_data"
    },
    {
     "data": {
      "text/plain": [
       "277524"
      ]
     },
     "execution_count": 2,
     "metadata": {},
     "output_type": "execute_result"
    }
   ],
   "source": [
    "import numpy as np\n",
    "import pandas as pd\n",
    "from tqdm.notebook import tqdm\n",
    "\n",
    "base = './kaggle/input/breast-histopathology-images/'\n",
    "\n",
    "ids = os.listdir(base)\n",
    "data = []\n",
    "for id in tqdm(ids):\n",
    "  try:\n",
    "    files1 = os.listdir(base + id + '/1/')\n",
    "    files0 = os.listdir(base + id + '/0/')\n",
    "    for x in files1:\n",
    "      data.append(base + id + '/1/' + x)\n",
    "    for x in files0:\n",
    "      data.append(base + id + '/0/' + x)\n",
    "  except:\n",
    "    FileNotFoundError\n",
    "len(data)"
   ]
  },
  {
   "cell_type": "code",
   "execution_count": 3,
   "id": "9e9ba7fb",
   "metadata": {
    "execution": {
     "iopub.execute_input": "2021-11-07T16:25:39.239727Z",
     "iopub.status.busy": "2021-11-07T16:25:39.238770Z",
     "iopub.status.idle": "2021-11-07T16:25:39.581371Z",
     "shell.execute_reply": "2021-11-07T16:25:39.580817Z",
     "shell.execute_reply.started": "2021-11-07T16:11:01.102155Z"
    },
    "papermill": {
     "duration": 0.360899,
     "end_time": "2021-11-07T16:25:39.581525",
     "exception": false,
     "start_time": "2021-11-07T16:25:39.220626",
     "status": "completed"
    },
    "tags": []
   },
   "outputs": [
    {
     "data": {
      "text/plain": [
       "20000"
      ]
     },
     "execution_count": 3,
     "metadata": {},
     "output_type": "execute_result"
    }
   ],
   "source": [
    "import random\n",
    "\n",
    "random.shuffle(data)\n",
    "data = data[:20000]\n",
    "len(data)"
   ]
  },
  {
   "cell_type": "code",
   "execution_count": 4,
   "id": "881da6d2",
   "metadata": {
    "execution": {
     "iopub.execute_input": "2021-11-07T16:25:39.631070Z",
     "iopub.status.busy": "2021-11-07T16:25:39.628428Z",
     "iopub.status.idle": "2021-11-07T16:27:17.818366Z",
     "shell.execute_reply": "2021-11-07T16:27:17.818861Z",
     "shell.execute_reply.started": "2021-11-07T16:11:05.612851Z"
    },
    "papermill": {
     "duration": 98.227646,
     "end_time": "2021-11-07T16:27:17.819056",
     "exception": false,
     "start_time": "2021-11-07T16:25:39.591410",
     "status": "completed"
    },
    "tags": []
   },
   "outputs": [
    {
     "data": {
      "application/vnd.jupyter.widget-view+json": {
       "model_id": "ce3ab62e6b2642deabc251a395be6cc2",
       "version_major": 2,
       "version_minor": 0
      },
      "text/plain": [
       "  0%|          | 0/20000 [00:00<?, ?it/s]"
      ]
     },
     "metadata": {},
     "output_type": "display_data"
    }
   ],
   "source": [
    "import cv2\n",
    "from tqdm.notebook import tqdm\n",
    "import keras_preprocessing.image as IMAGE\n",
    "from PIL import Image\n",
    "\n",
    "images=[]\n",
    "labels=[]\n",
    "\n",
    "for i in tqdm(data):\n",
    "  label = int(i[-5])\n",
    "  img = IMAGE.img_to_array(IMAGE.load_img(i, target_size=(50, 50)))\n",
    "  images.append(img)\n",
    "  labels.append(label)"
   ]
  },
  {
   "cell_type": "code",
   "execution_count": 5,
   "id": "ec2107ae",
   "metadata": {
    "execution": {
     "iopub.execute_input": "2021-11-07T16:27:17.843488Z",
     "iopub.status.busy": "2021-11-07T16:27:17.842817Z",
     "iopub.status.idle": "2021-11-07T16:27:18.448839Z",
     "shell.execute_reply": "2021-11-07T16:27:18.448145Z",
     "shell.execute_reply.started": "2021-11-07T16:13:14.663063Z"
    },
    "papermill": {
     "duration": 0.619121,
     "end_time": "2021-11-07T16:27:18.448994",
     "exception": false,
     "start_time": "2021-11-07T16:27:17.829873",
     "status": "completed"
    },
    "tags": []
   },
   "outputs": [
    {
     "name": "stdout",
     "output_type": "stream",
     "text": [
      "(14000, 50, 50, 3) (6000, 50, 50, 3) (14000,) (6000,)\n"
     ]
    }
   ],
   "source": [
    "from sklearn.model_selection import train_test_split\n",
    "\n",
    "y = np.array(labels)\n",
    "x = np.stack(images)/255\n",
    "\n",
    "x_train,x_test,y_train,y_test = train_test_split(x, y, random_state=0, test_size=0.3)\n",
    "print(x_train.shape, x_test.shape, y_train.shape, y_test.shape)"
   ]
  },
  {
   "cell_type": "code",
   "execution_count": 7,
   "id": "4326ad5b",
   "metadata": {
    "execution": {
     "iopub.execute_input": "2021-11-07T16:27:18.479202Z",
     "iopub.status.busy": "2021-11-07T16:27:18.478457Z",
     "iopub.status.idle": "2021-11-07T16:27:18.658831Z",
     "shell.execute_reply": "2021-11-07T16:27:18.659441Z",
     "shell.execute_reply.started": "2021-11-07T16:13:18.255345Z"
    },
    "papermill": {
     "duration": 0.199856,
     "end_time": "2021-11-07T16:27:18.659632",
     "exception": false,
     "start_time": "2021-11-07T16:27:18.459776",
     "status": "completed"
    },
    "tags": []
   },
   "outputs": [
    {
     "name": "stdout",
     "output_type": "stream",
     "text": [
      "Model: \"sequential_1\"\n",
      "_________________________________________________________________\n",
      "Layer (type)                 Output Shape              Param #   \n",
      "=================================================================\n",
      "conv2d_2 (Conv2D)            (None, 47, 47, 32)        1568      \n",
      "_________________________________________________________________\n",
      "max_pooling2d_4 (MaxPooling2 (None, 23, 23, 32)        0         \n",
      "_________________________________________________________________\n",
      "max_pooling2d_5 (MaxPooling2 (None, 11, 11, 32)        0         \n",
      "_________________________________________________________________\n",
      "dropout_2 (Dropout)          (None, 11, 11, 32)        0         \n",
      "_________________________________________________________________\n",
      "conv2d_3 (Conv2D)            (None, 8, 8, 32)          16416     \n",
      "_________________________________________________________________\n",
      "max_pooling2d_6 (MaxPooling2 (None, 4, 4, 32)          0         \n",
      "_________________________________________________________________\n",
      "max_pooling2d_7 (MaxPooling2 (None, 2, 2, 32)          0         \n",
      "_________________________________________________________________\n",
      "dropout_3 (Dropout)          (None, 2, 2, 32)          0         \n",
      "_________________________________________________________________\n",
      "flatten_1 (Flatten)          (None, 128)               0         \n",
      "_________________________________________________________________\n",
      "dense_2 (Dense)              (None, 64)                8256      \n",
      "_________________________________________________________________\n",
      "dense_3 (Dense)              (None, 1)                 65        \n",
      "=================================================================\n",
      "Total params: 26,305\n",
      "Trainable params: 26,305\n",
      "Non-trainable params: 0\n",
      "_________________________________________________________________\n"
     ]
    }
   ],
   "source": [
    "model=Sequential()\n",
    "\n",
    "model.add(Conv2D(filters=32,kernel_size=(4,4),input_shape=(50,50,3),activation='relu'))\n",
    "model.add(MaxPool2D(pool_size=(2,2)))\n",
    "model.add(MaxPool2D(pool_size=(2,2)))\n",
    "model.add(Dropout(0.25))\n",
    "model.add(Conv2D(filters=32,kernel_size=(4,4),activation='relu'))\n",
    "model.add(MaxPool2D(pool_size=(2,2)))\n",
    "model.add(MaxPool2D(pool_size=(2,2), strides=(2,2)))\n",
    "model.add(Dropout(0.25))\n",
    "model.add(Flatten())\n",
    "model.add(Dense(64,activation='relu'))\n",
    "model.add(Dense(1,activation='sigmoid'))\n",
    "model.compile(loss = 'binary_crossentropy', optimizer ='adam', metrics= ['accuracy'])\n",
    "\n",
    "model.summary()"
   ]
  },
  {
   "cell_type": "code",
   "execution_count": 8,
   "id": "6b86bc2b",
   "metadata": {
    "execution": {
     "iopub.execute_input": "2021-11-07T16:27:18.686792Z",
     "iopub.status.busy": "2021-11-07T16:27:18.686015Z",
     "iopub.status.idle": "2021-11-07T16:37:20.792823Z",
     "shell.execute_reply": "2021-11-07T16:37:20.791989Z",
     "shell.execute_reply.started": "2021-11-07T16:13:23.300125Z"
    },
    "papermill": {
     "duration": 602.121636,
     "end_time": "2021-11-07T16:37:20.793007",
     "exception": false,
     "start_time": "2021-11-07T16:27:18.671371",
     "status": "completed"
    },
    "tags": []
   },
   "outputs": [
    {
     "name": "stderr",
     "output_type": "stream",
     "text": [
      "2021-12-29 06:27:17.152074: I tensorflow/compiler/mlir/mlir_graph_optimization_pass.cc:116] None of the MLIR optimization passes are enabled (registered 2)\n"
     ]
    },
    {
     "name": "stdout",
     "output_type": "stream",
     "text": [
      "Epoch 1/100\n",
      "55/55 - 12s - loss: 0.5814 - accuracy: 0.7060 - val_loss: 0.6097 - val_accuracy: 0.7095\n",
      "Epoch 2/100\n",
      "55/55 - 8s - loss: 0.4878 - accuracy: 0.7556 - val_loss: 0.5994 - val_accuracy: 0.6867\n",
      "Epoch 3/100\n",
      "55/55 - 8s - loss: 0.4345 - accuracy: 0.8091 - val_loss: 0.4267 - val_accuracy: 0.8257\n",
      "Epoch 4/100\n",
      "55/55 - 8s - loss: 0.4359 - accuracy: 0.8101 - val_loss: 0.4444 - val_accuracy: 0.8133\n",
      "Epoch 5/100\n",
      "55/55 - 9s - loss: 0.4248 - accuracy: 0.8169 - val_loss: 0.4484 - val_accuracy: 0.8110\n",
      "Epoch 6/100\n",
      "55/55 - 10s - loss: 0.4163 - accuracy: 0.8186 - val_loss: 0.5034 - val_accuracy: 0.7758\n",
      "Epoch 7/100\n",
      "55/55 - 9s - loss: 0.4144 - accuracy: 0.8204 - val_loss: 0.4721 - val_accuracy: 0.7957\n",
      "Epoch 8/100\n",
      "55/55 - 10s - loss: 0.4099 - accuracy: 0.8231 - val_loss: 0.4107 - val_accuracy: 0.8257\n",
      "Epoch 9/100\n",
      "55/55 - 12s - loss: 0.4094 - accuracy: 0.8236 - val_loss: 0.4154 - val_accuracy: 0.8205\n",
      "Epoch 10/100\n",
      "55/55 - 10s - loss: 0.4058 - accuracy: 0.8232 - val_loss: 0.4040 - val_accuracy: 0.8322\n",
      "Epoch 11/100\n",
      "55/55 - 8s - loss: 0.4082 - accuracy: 0.8216 - val_loss: 0.5099 - val_accuracy: 0.7635\n",
      "Epoch 12/100\n",
      "55/55 - 9s - loss: 0.4026 - accuracy: 0.8285 - val_loss: 0.4049 - val_accuracy: 0.8268\n",
      "Epoch 13/100\n",
      "55/55 - 8s - loss: 0.4034 - accuracy: 0.8255 - val_loss: 0.3987 - val_accuracy: 0.8330\n",
      "Epoch 14/100\n",
      "55/55 - 8s - loss: 0.3988 - accuracy: 0.8284 - val_loss: 0.4127 - val_accuracy: 0.8255\n",
      "Epoch 15/100\n",
      "55/55 - 8s - loss: 0.4053 - accuracy: 0.8249 - val_loss: 0.4457 - val_accuracy: 0.8170\n",
      "Epoch 16/100\n",
      "55/55 - 8s - loss: 0.3963 - accuracy: 0.8289 - val_loss: 0.4064 - val_accuracy: 0.8255\n",
      "Epoch 17/100\n",
      "55/55 - 8s - loss: 0.3947 - accuracy: 0.8279 - val_loss: 0.4063 - val_accuracy: 0.8288\n",
      "Epoch 18/100\n",
      "55/55 - 9s - loss: 0.3920 - accuracy: 0.8319 - val_loss: 0.4291 - val_accuracy: 0.8210\n",
      "Epoch 19/100\n",
      "55/55 - 9s - loss: 0.3904 - accuracy: 0.8326 - val_loss: 0.4825 - val_accuracy: 0.7888\n",
      "Epoch 20/100\n",
      "55/55 - 9s - loss: 0.3915 - accuracy: 0.8321 - val_loss: 0.4070 - val_accuracy: 0.8313\n",
      "Epoch 21/100\n",
      "55/55 - 9s - loss: 0.3912 - accuracy: 0.8301 - val_loss: 0.4680 - val_accuracy: 0.8065\n",
      "Epoch 22/100\n",
      "55/55 - 9s - loss: 0.3874 - accuracy: 0.8325 - val_loss: 0.4044 - val_accuracy: 0.8298\n",
      "Epoch 23/100\n",
      "55/55 - 9s - loss: 0.3841 - accuracy: 0.8350 - val_loss: 0.4487 - val_accuracy: 0.8215\n",
      "Epoch 24/100\n",
      "55/55 - 9s - loss: 0.3889 - accuracy: 0.8324 - val_loss: 0.4150 - val_accuracy: 0.8255\n",
      "Epoch 25/100\n",
      "55/55 - 9s - loss: 0.3870 - accuracy: 0.8334 - val_loss: 0.4696 - val_accuracy: 0.8052\n",
      "Epoch 26/100\n",
      "55/55 - 10s - loss: 0.3855 - accuracy: 0.8347 - val_loss: 0.4315 - val_accuracy: 0.8243\n",
      "Epoch 27/100\n",
      "55/55 - 9s - loss: 0.3838 - accuracy: 0.8341 - val_loss: 0.4850 - val_accuracy: 0.7908\n",
      "Epoch 28/100\n",
      "55/55 - 9s - loss: 0.3834 - accuracy: 0.8333 - val_loss: 0.4016 - val_accuracy: 0.8290\n",
      "Epoch 29/100\n",
      "55/55 - 9s - loss: 0.3796 - accuracy: 0.8370 - val_loss: 0.4331 - val_accuracy: 0.8235\n",
      "Epoch 30/100\n",
      "55/55 - 9s - loss: 0.3786 - accuracy: 0.8376 - val_loss: 0.4292 - val_accuracy: 0.8228\n",
      "Epoch 31/100\n",
      "55/55 - 9s - loss: 0.3800 - accuracy: 0.8379 - val_loss: 0.4027 - val_accuracy: 0.8320\n",
      "Epoch 32/100\n",
      "55/55 - 9s - loss: 0.3742 - accuracy: 0.8399 - val_loss: 0.4387 - val_accuracy: 0.8210\n",
      "Epoch 33/100\n",
      "55/55 - 9s - loss: 0.3751 - accuracy: 0.8411 - val_loss: 0.4532 - val_accuracy: 0.8130\n",
      "Epoch 34/100\n",
      "55/55 - 9s - loss: 0.3738 - accuracy: 0.8423 - val_loss: 0.4918 - val_accuracy: 0.7877\n",
      "Epoch 35/100\n",
      "55/55 - 9s - loss: 0.3750 - accuracy: 0.8398 - val_loss: 0.4336 - val_accuracy: 0.8243\n",
      "Epoch 36/100\n",
      "55/55 - 9s - loss: 0.3765 - accuracy: 0.8383 - val_loss: 0.4805 - val_accuracy: 0.7923\n",
      "Epoch 37/100\n",
      "55/55 - 9s - loss: 0.3739 - accuracy: 0.8429 - val_loss: 0.3994 - val_accuracy: 0.8347\n",
      "Epoch 38/100\n",
      "55/55 - 9s - loss: 0.3695 - accuracy: 0.8419 - val_loss: 0.4527 - val_accuracy: 0.8150\n",
      "Epoch 39/100\n",
      "55/55 - 8s - loss: 0.3710 - accuracy: 0.8435 - val_loss: 0.4979 - val_accuracy: 0.7800\n",
      "Epoch 40/100\n",
      "55/55 - 9s - loss: 0.3774 - accuracy: 0.8391 - val_loss: 0.4825 - val_accuracy: 0.7948\n",
      "Epoch 41/100\n",
      "55/55 - 9s - loss: 0.3693 - accuracy: 0.8424 - val_loss: 0.4227 - val_accuracy: 0.8270\n",
      "Epoch 42/100\n",
      "55/55 - 9s - loss: 0.3665 - accuracy: 0.8433 - val_loss: 0.4438 - val_accuracy: 0.8152\n",
      "Epoch 43/100\n",
      "55/55 - 9s - loss: 0.3681 - accuracy: 0.8431 - val_loss: 0.4554 - val_accuracy: 0.8105\n",
      "Epoch 44/100\n",
      "55/55 - 9s - loss: 0.3719 - accuracy: 0.8389 - val_loss: 0.4224 - val_accuracy: 0.8313\n",
      "Epoch 45/100\n",
      "55/55 - 9s - loss: 0.3759 - accuracy: 0.8404 - val_loss: 0.4212 - val_accuracy: 0.8335\n",
      "Epoch 46/100\n",
      "55/55 - 9s - loss: 0.3708 - accuracy: 0.8430 - val_loss: 0.4177 - val_accuracy: 0.8293\n",
      "Epoch 47/100\n",
      "55/55 - 9s - loss: 0.3653 - accuracy: 0.8439 - val_loss: 0.4447 - val_accuracy: 0.8147\n",
      "Epoch 48/100\n",
      "55/55 - 8s - loss: 0.3653 - accuracy: 0.8450 - val_loss: 0.4317 - val_accuracy: 0.8238\n",
      "Epoch 49/100\n",
      "55/55 - 8s - loss: 0.3658 - accuracy: 0.8416 - val_loss: 0.4336 - val_accuracy: 0.8203\n",
      "Epoch 50/100\n",
      "55/55 - 9s - loss: 0.3671 - accuracy: 0.8444 - val_loss: 0.4962 - val_accuracy: 0.7770\n",
      "Epoch 51/100\n",
      "55/55 - 9s - loss: 0.3636 - accuracy: 0.8443 - val_loss: 0.4312 - val_accuracy: 0.8238\n",
      "Epoch 52/100\n",
      "55/55 - 9s - loss: 0.3645 - accuracy: 0.8466 - val_loss: 0.4647 - val_accuracy: 0.8052\n",
      "Epoch 53/100\n",
      "55/55 - 9s - loss: 0.3646 - accuracy: 0.8456 - val_loss: 0.4600 - val_accuracy: 0.8075\n",
      "Epoch 54/100\n",
      "55/55 - 9s - loss: 0.3671 - accuracy: 0.8435 - val_loss: 0.5022 - val_accuracy: 0.7843\n",
      "Epoch 55/100\n",
      "55/55 - 9s - loss: 0.3668 - accuracy: 0.8434 - val_loss: 0.4314 - val_accuracy: 0.8250\n",
      "Epoch 56/100\n",
      "55/55 - 9s - loss: 0.3621 - accuracy: 0.8444 - val_loss: 0.4057 - val_accuracy: 0.8408\n",
      "Epoch 57/100\n",
      "55/55 - 11s - loss: 0.3583 - accuracy: 0.8469 - val_loss: 0.4155 - val_accuracy: 0.8332\n",
      "Epoch 58/100\n",
      "55/55 - 10s - loss: 0.3582 - accuracy: 0.8486 - val_loss: 0.4073 - val_accuracy: 0.8405\n",
      "Epoch 59/100\n",
      "55/55 - 9s - loss: 0.3575 - accuracy: 0.8481 - val_loss: 0.4295 - val_accuracy: 0.8253\n",
      "Epoch 60/100\n",
      "55/55 - 9s - loss: 0.3560 - accuracy: 0.8466 - val_loss: 0.3867 - val_accuracy: 0.8378\n",
      "Epoch 61/100\n",
      "55/55 - 9s - loss: 0.3667 - accuracy: 0.8466 - val_loss: 0.4370 - val_accuracy: 0.8207\n",
      "Epoch 62/100\n",
      "55/55 - 9s - loss: 0.3612 - accuracy: 0.8445 - val_loss: 0.5330 - val_accuracy: 0.7418\n",
      "Epoch 63/100\n",
      "55/55 - 9s - loss: 0.3584 - accuracy: 0.8478 - val_loss: 0.4085 - val_accuracy: 0.8378\n",
      "Epoch 64/100\n",
      "55/55 - 9s - loss: 0.3587 - accuracy: 0.8477 - val_loss: 0.4034 - val_accuracy: 0.8365\n",
      "Epoch 65/100\n",
      "55/55 - 9s - loss: 0.3607 - accuracy: 0.8485 - val_loss: 0.4710 - val_accuracy: 0.7955\n",
      "Epoch 66/100\n",
      "55/55 - 9s - loss: 0.3551 - accuracy: 0.8516 - val_loss: 0.3936 - val_accuracy: 0.8382\n",
      "Epoch 67/100\n",
      "55/55 - 9s - loss: 0.3534 - accuracy: 0.8496 - val_loss: 0.4271 - val_accuracy: 0.8292\n",
      "Epoch 68/100\n",
      "55/55 - 9s - loss: 0.3544 - accuracy: 0.8485 - val_loss: 0.4537 - val_accuracy: 0.8157\n",
      "Epoch 69/100\n",
      "55/55 - 8s - loss: 0.3585 - accuracy: 0.8487 - val_loss: 0.4317 - val_accuracy: 0.8248\n",
      "Epoch 70/100\n",
      "55/55 - 9s - loss: 0.3557 - accuracy: 0.8472 - val_loss: 0.4078 - val_accuracy: 0.8360\n",
      "Epoch 71/100\n",
      "55/55 - 9s - loss: 0.3527 - accuracy: 0.8481 - val_loss: 0.5058 - val_accuracy: 0.7633\n",
      "Epoch 72/100\n",
      "55/55 - 9s - loss: 0.3542 - accuracy: 0.8504 - val_loss: 0.4240 - val_accuracy: 0.8293\n",
      "Epoch 73/100\n",
      "55/55 - 10s - loss: 0.3498 - accuracy: 0.8517 - val_loss: 0.4254 - val_accuracy: 0.8315\n",
      "Epoch 74/100\n",
      "55/55 - 9s - loss: 0.3498 - accuracy: 0.8513 - val_loss: 0.4231 - val_accuracy: 0.8283\n",
      "Epoch 75/100\n",
      "55/55 - 8s - loss: 0.3510 - accuracy: 0.8491 - val_loss: 0.4002 - val_accuracy: 0.8418\n",
      "Epoch 76/100\n",
      "55/55 - 8s - loss: 0.3530 - accuracy: 0.8508 - val_loss: 0.3874 - val_accuracy: 0.8447\n",
      "Epoch 77/100\n",
      "55/55 - 8s - loss: 0.3557 - accuracy: 0.8516 - val_loss: 0.3929 - val_accuracy: 0.8408\n",
      "Epoch 78/100\n",
      "55/55 - 8s - loss: 0.3525 - accuracy: 0.8491 - val_loss: 0.4434 - val_accuracy: 0.8168\n",
      "Epoch 79/100\n",
      "55/55 - 9s - loss: 0.3497 - accuracy: 0.8526 - val_loss: 0.4239 - val_accuracy: 0.8300\n",
      "Epoch 80/100\n",
      "55/55 - 9s - loss: 0.3470 - accuracy: 0.8509 - val_loss: 0.4512 - val_accuracy: 0.8113\n",
      "Epoch 81/100\n",
      "55/55 - 9s - loss: 0.3465 - accuracy: 0.8546 - val_loss: 0.4094 - val_accuracy: 0.8303\n",
      "Epoch 82/100\n",
      "55/55 - 8s - loss: 0.3457 - accuracy: 0.8511 - val_loss: 0.4058 - val_accuracy: 0.8397\n"
     ]
    },
    {
     "name": "stdout",
     "output_type": "stream",
     "text": [
      "Epoch 83/100\n",
      "55/55 - 8s - loss: 0.3436 - accuracy: 0.8539 - val_loss: 0.4008 - val_accuracy: 0.8430\n",
      "Epoch 84/100\n",
      "55/55 - 8s - loss: 0.3419 - accuracy: 0.8553 - val_loss: 0.4318 - val_accuracy: 0.8193\n",
      "Epoch 85/100\n",
      "55/55 - 9s - loss: 0.3453 - accuracy: 0.8533 - val_loss: 0.4097 - val_accuracy: 0.8353\n",
      "Epoch 86/100\n",
      "55/55 - 8s - loss: 0.3465 - accuracy: 0.8552 - val_loss: 0.3953 - val_accuracy: 0.8388\n",
      "Epoch 87/100\n",
      "55/55 - 9s - loss: 0.3447 - accuracy: 0.8526 - val_loss: 0.4001 - val_accuracy: 0.8400\n",
      "Epoch 88/100\n",
      "55/55 - 9s - loss: 0.3393 - accuracy: 0.8565 - val_loss: 0.3799 - val_accuracy: 0.8422\n",
      "Epoch 89/100\n",
      "55/55 - 10s - loss: 0.3405 - accuracy: 0.8558 - val_loss: 0.3979 - val_accuracy: 0.8353\n",
      "Epoch 90/100\n",
      "55/55 - 9s - loss: 0.3433 - accuracy: 0.8541 - val_loss: 0.4205 - val_accuracy: 0.8273\n",
      "Epoch 91/100\n",
      "55/55 - 9s - loss: 0.3402 - accuracy: 0.8559 - val_loss: 0.4697 - val_accuracy: 0.7960\n",
      "Epoch 92/100\n",
      "55/55 - 9s - loss: 0.3405 - accuracy: 0.8555 - val_loss: 0.3915 - val_accuracy: 0.8383\n",
      "Epoch 93/100\n",
      "55/55 - 9s - loss: 0.3399 - accuracy: 0.8581 - val_loss: 0.4093 - val_accuracy: 0.8378\n",
      "Epoch 94/100\n",
      "55/55 - 10s - loss: 0.3392 - accuracy: 0.8564 - val_loss: 0.4077 - val_accuracy: 0.8322\n",
      "Epoch 95/100\n",
      "55/55 - 9s - loss: 0.3379 - accuracy: 0.8563 - val_loss: 0.4097 - val_accuracy: 0.8355\n",
      "Epoch 96/100\n",
      "55/55 - 9s - loss: 0.3481 - accuracy: 0.8537 - val_loss: 0.4147 - val_accuracy: 0.8345\n",
      "Epoch 97/100\n",
      "55/55 - 9s - loss: 0.3437 - accuracy: 0.8549 - val_loss: 0.3908 - val_accuracy: 0.8435\n",
      "Epoch 98/100\n",
      "55/55 - 9s - loss: 0.3431 - accuracy: 0.8557 - val_loss: 0.3939 - val_accuracy: 0.8408\n",
      "Epoch 99/100\n",
      "55/55 - 9s - loss: 0.3476 - accuracy: 0.8502 - val_loss: 0.4022 - val_accuracy: 0.8422\n",
      "Epoch 100/100\n",
      "55/55 - 9s - loss: 0.3397 - accuracy: 0.8546 - val_loss: 0.4018 - val_accuracy: 0.8352\n"
     ]
    }
   ],
   "source": [
    "import tensorflow as tf\n",
    "\n",
    "history = model.fit(x_train, y_train, validation_data = (x_test, y_test), epochs = 100, verbose = 2, batch_size = 256)"
   ]
  },
  {
   "cell_type": "code",
   "execution_count": 9,
   "id": "66f7556c",
   "metadata": {
    "execution": {
     "iopub.execute_input": "2021-11-07T16:37:20.939745Z",
     "iopub.status.busy": "2021-11-07T16:37:20.939067Z",
     "iopub.status.idle": "2021-11-07T16:37:21.129918Z",
     "shell.execute_reply": "2021-11-07T16:37:21.130628Z",
     "shell.execute_reply.started": "2021-11-07T16:23:21.021994Z"
    },
    "papermill": {
     "duration": 0.265645,
     "end_time": "2021-11-07T16:37:21.130801",
     "exception": false,
     "start_time": "2021-11-07T16:37:20.865156",
     "status": "completed"
    },
    "tags": []
   },
   "outputs": [
    {
     "data": {
      "image/png": "[encoded data removed]",
      "text/plain": [
       "<Figure size 432x288 with 1 Axes>"
      ]
     },
     "metadata": {
      "needs_background": "light"
     },
     "output_type": "display_data"
    }
   ],
   "source": [
    "plt.plot(history.history['accuracy'])\n",
    "plt.plot(history.history['val_accuracy'])\n",
    "plt.title('model accuracy')\n",
    "plt.legend(['train', 'val'], loc='upper left')\n",
    "plt.show()"
   ]
  },
  {
   "cell_type": "code",
   "execution_count": 10,
   "id": "25d40097",
   "metadata": {
    "execution": {
     "iopub.execute_input": "2021-11-07T16:37:21.281164Z",
     "iopub.status.busy": "2021-11-07T16:37:21.280538Z",
     "iopub.status.idle": "2021-11-07T16:37:21.438770Z",
     "shell.execute_reply": "2021-11-07T16:37:21.439383Z",
     "shell.execute_reply.started": "2021-11-07T16:24:15.642944Z"
    },
    "papermill": {
     "duration": 0.235002,
     "end_time": "2021-11-07T16:37:21.439569",
     "exception": false,
     "start_time": "2021-11-07T16:37:21.204567",
     "status": "completed"
    },
    "tags": []
   },
   "outputs": [
    {
     "data": {
      "image/png": "[encoded data removed]",
      "text/plain": [
       "<Figure size 432x288 with 1 Axes>"
      ]
     },
     "metadata": {
      "needs_background": "light"
     },
     "output_type": "display_data"
    }
   ],
   "source": [
    "plt.plot(history.history['loss'])\n",
    "plt.plot(history.history['val_loss'])\n",
    "plt.title('model loss')\n",
    "plt.legend(['train', 'val'], loc='upper left')\n",
    "plt.show()"
   ]
  }
 ],
 "metadata": {
  "kernelspec": {
   "display_name": "Python 3",
   "language": "python",
   "name": "python3"
  },
  "language_info": {
   "codemirror_mode": {
    "name": "ipython",
    "version": 3
   },
   "file_extension": ".py",
   "mimetype": "text/x-python",
   "name": "python",
   "nbconvert_exporter": "python",
   "pygments_lexer": "ipython3",
   "version": "3.8.8"
  },
  "papermill": {
   "default_parameters": {},
   "duration": 764.228602,
   "end_time": "2021-11-07T16:37:25.113126",
   "environment_variables": {},
   "exception": null,
   "input_path": "__notebook__.ipynb",
   "output_path": "__notebook__.ipynb",
   "parameters": {},
   "start_time": "2021-11-07T16:24:40.884524",
   "version": "2.3.3"
  },
  "widgets": {
   "application/vnd.jupyter.widget-state+json": {
    "state": {
     "13e723e98cbd45f5af319f0beb2e786e": {
      "model_module": "@jupyter-widgets/base",
      "model_module_version": "1.2.0",
      "model_name": "LayoutModel",
      "state": {
       "_model_module": "@jupyter-widgets/base",
       "_model_module_version": "1.2.0",
       "_model_name": "LayoutModel",
       "_view_count": null,
       "_view_module": "@jupyter-widgets/base",
       "_view_module_version": "1.2.0",
       "_view_name": "LayoutView",
       "align_content": null,
       "align_items": null,
       "align_self": null,
       "border": null,
       "bottom": null,
       "display": null,
       "flex": null,
       "flex_flow": null,
       "grid_area": null,
       "grid_auto_columns": null,
       "grid_auto_flow": null,
       "grid_auto_rows": null,
       "grid_column": null,
       "grid_gap": null,
       "grid_row": null,
       "grid_template_areas": null,
       "grid_template_columns": null,
       "grid_template_rows": null,
       "height": null,
       "justify_content": null,
       "justify_items": null,
       "left": null,
       "margin": null,
       "max_height": null,
       "max_width": null,
       "min_height": null,
       "min_width": null,
       "object_fit": null,
       "object_position": null,
       "order": null,
       "overflow": null,
       "overflow_x": null,
       "overflow_y": null,
       "padding": null,
       "right": null,
       "top": null,
       "visibility": null,
       "width": null
      }
     },
     "163d9c8acbf840d081f1f657148e2da8": {
      "model_module": "@jupyter-widgets/base",
      "model_module_version": "1.2.0",
      "model_name": "LayoutModel",
      "state": {
       "_model_module": "@jupyter-widgets/base",
       "_model_module_version": "1.2.0",
       "_model_name": "LayoutModel",
       "_view_count": null,
       "_view_module": "@jupyter-widgets/base",
       "_view_module_version": "1.2.0",
       "_view_name": "LayoutView",
       "align_content": null,
       "align_items": null,
       "align_self": null,
       "border": null,
       "bottom": null,
       "display": null,
       "flex": null,
       "flex_flow": null,
       "grid_area": null,
       "grid_auto_columns": null,
       "grid_auto_flow": null,
       "grid_auto_rows": null,
       "grid_column": null,
       "grid_gap": null,
       "grid_row": null,
       "grid_template_areas": null,
       "grid_template_columns": null,
       "grid_template_rows": null,
       "height": null,
       "justify_content": null,
       "justify_items": null,
       "left": null,
       "margin": null,
       "max_height": null,
       "max_width": null,
       "min_height": null,
       "min_width": null,
       "object_fit": null,
       "object_position": null,
       "order": null,
       "overflow": null,
       "overflow_x": null,
       "overflow_y": null,
       "padding": null,
       "right": null,
       "top": null,
       "visibility": null,
       "width": null
      }
     },
     "231c8ac6a05e47628561d3092382e099": {
      "model_module": "@jupyter-widgets/base",
      "model_module_version": "1.2.0",
      "model_name": "LayoutModel",
      "state": {
       "_model_module": "@jupyter-widgets/base",
       "_model_module_version": "1.2.0",
       "_model_name": "LayoutModel",
       "_view_count": null,
       "_view_module": "@jupyter-widgets/base",
       "_view_module_version": "1.2.0",
       "_view_name": "LayoutView",
       "align_content": null,
       "align_items": null,
       "align_self": null,
       "border": null,
       "bottom": null,
       "display": null,
       "flex": null,
       "flex_flow": null,
       "grid_area": null,
       "grid_auto_columns": null,
       "grid_auto_flow": null,
       "grid_auto_rows": null,
       "grid_column": null,
       "grid_gap": null,
       "grid_row": null,
       "grid_template_areas": null,
       "grid_template_columns": null,
       "grid_template_rows": null,
       "height": null,
       "justify_content": null,
       "justify_items": null,
       "left": null,
       "margin": null,
       "max_height": null,
       "max_width": null,
       "min_height": null,
       "min_width": null,
       "object_fit": null,
       "object_position": null,
       "order": null,
       "overflow": null,
       "overflow_x": null,
       "overflow_y": null,
       "padding": null,
       "right": null,
       "top": null,
       "visibility": null,
       "width": null
      }
     },
     "2bb63ea148b04758b2a906faf32ce0f4": {
      "model_module": "@jupyter-widgets/controls",
      "model_module_version": "1.5.0",
      "model_name": "HTMLModel",
      "state": {
       "_dom_classes": [],
       "_model_module": "@jupyter-widgets/controls",
       "_model_module_version": "1.5.0",
       "_model_name": "HTMLModel",
       "_view_count": null,
       "_view_module": "@jupyter-widgets/controls",
       "_view_module_version": "1.5.0",
       "_view_name": "HTMLView",
       "description": "",
       "description_tooltip": null,
       "layout": "IPY_MODEL_231c8ac6a05e47628561d3092382e099",
       "placeholder": "​",
       "style": "IPY_MODEL_f9f01468d7a4412faee66d91811be29a",
       "value": "100%"
      }
     },
     "3323577ae1d241b4bc510dc23e3b2a32": {
      "model_module": "@jupyter-widgets/base",
      "model_module_version": "1.2.0",
      "model_name": "LayoutModel",
      "state": {
       "_model_module": "@jupyter-widgets/base",
       "_model_module_version": "1.2.0",
       "_model_name": "LayoutModel",
       "_view_count": null,
       "_view_module": "@jupyter-widgets/base",
       "_view_module_version": "1.2.0",
       "_view_name": "LayoutView",
       "align_content": null,
       "align_items": null,
       "align_self": null,
       "border": null,
       "bottom": null,
       "display": null,
       "flex": null,
       "flex_flow": null,
       "grid_area": null,
       "grid_auto_columns": null,
       "grid_auto_flow": null,
       "grid_auto_rows": null,
       "grid_column": null,
       "grid_gap": null,
       "grid_row": null,
       "grid_template_areas": null,
       "grid_template_columns": null,
       "grid_template_rows": null,
       "height": null,
       "justify_content": null,
       "justify_items": null,
       "left": null,
       "margin": null,
       "max_height": null,
       "max_width": null,
       "min_height": null,
       "min_width": null,
       "object_fit": null,
       "object_position": null,
       "order": null,
       "overflow": null,
       "overflow_x": null,
       "overflow_y": null,
       "padding": null,
       "right": null,
       "top": null,
       "visibility": null,
       "width": null
      }
     },
     "423de03889e64eec9a372f18dcee478f": {
      "model_module": "@jupyter-widgets/controls",
      "model_module_version": "1.5.0",
      "model_name": "ProgressStyleModel",
      "state": {
       "_model_module": "@jupyter-widgets/controls",
       "_model_module_version": "1.5.0",
       "_model_name": "ProgressStyleModel",
       "_view_count": null,
       "_view_module": "@jupyter-widgets/base",
       "_view_module_version": "1.2.0",
       "_view_name": "StyleView",
       "bar_color": null,
       "description_width": ""
      }
     },
     "53546e57a8724223a9d13443e36b4656": {
      "model_module": "@jupyter-widgets/base",
      "model_module_version": "1.2.0",
      "model_name": "LayoutModel",
      "state": {
       "_model_module": "@jupyter-widgets/base",
       "_model_module_version": "1.2.0",
       "_model_name": "LayoutModel",
       "_view_count": null,
       "_view_module": "@jupyter-widgets/base",
       "_view_module_version": "1.2.0",
       "_view_name": "LayoutView",
       "align_content": null,
       "align_items": null,
       "align_self": null,
       "border": null,
       "bottom": null,
       "display": null,
       "flex": null,
       "flex_flow": null,
       "grid_area": null,
       "grid_auto_columns": null,
       "grid_auto_flow": null,
       "grid_auto_rows": null,
       "grid_column": null,
       "grid_gap": null,
       "grid_row": null,
       "grid_template_areas": null,
       "grid_template_columns": null,
       "grid_template_rows": null,
       "height": null,
       "justify_content": null,
       "justify_items": null,
       "left": null,
       "margin": null,
       "max_height": null,
       "max_width": null,
       "min_height": null,
       "min_width": null,
       "object_fit": null,
       "object_position": null,
       "order": null,
       "overflow": null,
       "overflow_x": null,
       "overflow_y": null,
       "padding": null,
       "right": null,
       "top": null,
       "visibility": null,
       "width": null
      }
     },
     "5bc988ec9fea4e8abae571bf9ef5ebd3": {
      "model_module": "@jupyter-widgets/controls",
      "model_module_version": "1.5.0",
      "model_name": "DescriptionStyleModel",
      "state": {
       "_model_module": "@jupyter-widgets/controls",
       "_model_module_version": "1.5.0",
       "_model_name": "DescriptionStyleModel",
       "_view_count": null,
       "_view_module": "@jupyter-widgets/base",
       "_view_module_version": "1.2.0",
       "_view_name": "StyleView",
       "description_width": ""
      }
     },
     "6a2e63f5ff21400980e741596e8b5a20": {
      "model_module": "@jupyter-widgets/controls",
      "model_module_version": "1.5.0",
      "model_name": "FloatProgressModel",
      "state": {
       "_dom_classes": [],
       "_model_module": "@jupyter-widgets/controls",
       "_model_module_version": "1.5.0",
       "_model_name": "FloatProgressModel",
       "_view_count": null,
       "_view_module": "@jupyter-widgets/controls",
       "_view_module_version": "1.5.0",
       "_view_name": "ProgressView",
       "bar_style": "success",
       "description": "",
       "description_tooltip": null,
       "layout": "IPY_MODEL_e54fc732dd71438ca18ba1c323a275c2",
       "max": 280,
       "min": 0,
       "orientation": "horizontal",
       "style": "IPY_MODEL_ddbba5350ace4ab4a649e8a3fc228ae9",
       "value": 280
      }
     },
     "7838fc9cea7e490098ac04413d347d40": {
      "model_module": "@jupyter-widgets/controls",
      "model_module_version": "1.5.0",
      "model_name": "FloatProgressModel",
      "state": {
       "_dom_classes": [],
       "_model_module": "@jupyter-widgets/controls",
       "_model_module_version": "1.5.0",
       "_model_name": "FloatProgressModel",
       "_view_count": null,
       "_view_module": "@jupyter-widgets/controls",
       "_view_module_version": "1.5.0",
       "_view_name": "ProgressView",
       "bar_style": "success",
       "description": "",
       "description_tooltip": null,
       "layout": "IPY_MODEL_53546e57a8724223a9d13443e36b4656",
       "max": 20000,
       "min": 0,
       "orientation": "horizontal",
       "style": "IPY_MODEL_423de03889e64eec9a372f18dcee478f",
       "value": 20000
      }
     },
     "7c2b270c297c4634887b69fd7c24d381": {
      "model_module": "@jupyter-widgets/controls",
      "model_module_version": "1.5.0",
      "model_name": "DescriptionStyleModel",
      "state": {
       "_model_module": "@jupyter-widgets/controls",
       "_model_module_version": "1.5.0",
       "_model_name": "DescriptionStyleModel",
       "_view_count": null,
       "_view_module": "@jupyter-widgets/base",
       "_view_module_version": "1.2.0",
       "_view_name": "StyleView",
       "description_width": ""
      }
     },
     "889afb8ad7be44f6bb66e7a974dc2069": {
      "model_module": "@jupyter-widgets/controls",
      "model_module_version": "1.5.0",
      "model_name": "HTMLModel",
      "state": {
       "_dom_classes": [],
       "_model_module": "@jupyter-widgets/controls",
       "_model_module_version": "1.5.0",
       "_model_name": "HTMLModel",
       "_view_count": null,
       "_view_module": "@jupyter-widgets/controls",
       "_view_module_version": "1.5.0",
       "_view_name": "HTMLView",
       "description": "",
       "description_tooltip": null,
       "layout": "IPY_MODEL_8d9418094799402685a8019b93b8f4af",
       "placeholder": "​",
       "style": "IPY_MODEL_5bc988ec9fea4e8abae571bf9ef5ebd3",
       "value": " 20000/20000 [01:38&lt;00:00, 212.43it/s]"
      }
     },
     "8d9418094799402685a8019b93b8f4af": {
      "model_module": "@jupyter-widgets/base",
      "model_module_version": "1.2.0",
      "model_name": "LayoutModel",
      "state": {
       "_model_module": "@jupyter-widgets/base",
       "_model_module_version": "1.2.0",
       "_model_name": "LayoutModel",
       "_view_count": null,
       "_view_module": "@jupyter-widgets/base",
       "_view_module_version": "1.2.0",
       "_view_name": "LayoutView",
       "align_content": null,
       "align_items": null,
       "align_self": null,
       "border": null,
       "bottom": null,
       "display": null,
       "flex": null,
       "flex_flow": null,
       "grid_area": null,
       "grid_auto_columns": null,
       "grid_auto_flow": null,
       "grid_auto_rows": null,
       "grid_column": null,
       "grid_gap": null,
       "grid_row": null,
       "grid_template_areas": null,
       "grid_template_columns": null,
       "grid_template_rows": null,
       "height": null,
       "justify_content": null,
       "justify_items": null,
       "left": null,
       "margin": null,
       "max_height": null,
       "max_width": null,
       "min_height": null,
       "min_width": null,
       "object_fit": null,
       "object_position": null,
       "order": null,
       "overflow": null,
       "overflow_x": null,
       "overflow_y": null,
       "padding": null,
       "right": null,
       "top": null,
       "visibility": null,
       "width": null
      }
     },
     "913008c69ca54efeaa1ae7a571257e3a": {
      "model_module": "@jupyter-widgets/controls",
      "model_module_version": "1.5.0",
      "model_name": "HTMLModel",
      "state": {
       "_dom_classes": [],
       "_model_module": "@jupyter-widgets/controls",
       "_model_module_version": "1.5.0",
       "_model_name": "HTMLModel",
       "_view_count": null,
       "_view_module": "@jupyter-widgets/controls",
       "_view_module_version": "1.5.0",
       "_view_name": "HTMLView",
       "description": "",
       "description_tooltip": null,
       "layout": "IPY_MODEL_3323577ae1d241b4bc510dc23e3b2a32",
       "placeholder": "​",
       "style": "IPY_MODEL_7c2b270c297c4634887b69fd7c24d381",
       "value": "100%"
      }
     },
     "d1ec8314990c4c2a92e471a42735acd2": {
      "model_module": "@jupyter-widgets/base",
      "model_module_version": "1.2.0",
      "model_name": "LayoutModel",
      "state": {
       "_model_module": "@jupyter-widgets/base",
       "_model_module_version": "1.2.0",
       "_model_name": "LayoutModel",
       "_view_count": null,
       "_view_module": "@jupyter-widgets/base",
       "_view_module_version": "1.2.0",
       "_view_name": "LayoutView",
       "align_content": null,
       "align_items": null,
       "align_self": null,
       "border": null,
       "bottom": null,
       "display": null,
       "flex": null,
       "flex_flow": null,
       "grid_area": null,
       "grid_auto_columns": null,
       "grid_auto_flow": null,
       "grid_auto_rows": null,
       "grid_column": null,
       "grid_gap": null,
       "grid_row": null,
       "grid_template_areas": null,
       "grid_template_columns": null,
       "grid_template_rows": null,
       "height": null,
       "justify_content": null,
       "justify_items": null,
       "left": null,
       "margin": null,
       "max_height": null,
       "max_width": null,
       "min_height": null,
       "min_width": null,
       "object_fit": null,
       "object_position": null,
       "order": null,
       "overflow": null,
       "overflow_x": null,
       "overflow_y": null,
       "padding": null,
       "right": null,
       "top": null,
       "visibility": null,
       "width": null
      }
     },
     "d95c86bffa5a4b4ba91efe8e1164732f": {
      "model_module": "@jupyter-widgets/controls",
      "model_module_version": "1.5.0",
      "model_name": "HTMLModel",
      "state": {
       "_dom_classes": [],
       "_model_module": "@jupyter-widgets/controls",
       "_model_module_version": "1.5.0",
       "_model_name": "HTMLModel",
       "_view_count": null,
       "_view_module": "@jupyter-widgets/controls",
       "_view_module_version": "1.5.0",
       "_view_name": "HTMLView",
       "description": "",
       "description_tooltip": null,
       "layout": "IPY_MODEL_13e723e98cbd45f5af319f0beb2e786e",
       "placeholder": "​",
       "style": "IPY_MODEL_f8e45285870b48ffa6c46034bf40900b",
       "value": " 280/280 [00:41&lt;00:00,  5.82it/s]"
      }
     },
     "ddbba5350ace4ab4a649e8a3fc228ae9": {
      "model_module": "@jupyter-widgets/controls",
      "model_module_version": "1.5.0",
      "model_name": "ProgressStyleModel",
      "state": {
       "_model_module": "@jupyter-widgets/controls",
       "_model_module_version": "1.5.0",
       "_model_name": "ProgressStyleModel",
       "_view_count": null,
       "_view_module": "@jupyter-widgets/base",
       "_view_module_version": "1.2.0",
       "_view_name": "StyleView",
       "bar_color": null,
       "description_width": ""
      }
     },
     "e54fc732dd71438ca18ba1c323a275c2": {
      "model_module": "@jupyter-widgets/base",
      "model_module_version": "1.2.0",
      "model_name": "LayoutModel",
      "state": {
       "_model_module": "@jupyter-widgets/base",
       "_model_module_version": "1.2.0",
       "_model_name": "LayoutModel",
       "_view_count": null,
       "_view_module": "@jupyter-widgets/base",
       "_view_module_version": "1.2.0",
       "_view_name": "LayoutView",
       "align_content": null,
       "align_items": null,
       "align_self": null,
       "border": null,
       "bottom": null,
       "display": null,
       "flex": null,
       "flex_flow": null,
       "grid_area": null,
       "grid_auto_columns": null,
       "grid_auto_flow": null,
       "grid_auto_rows": null,
       "grid_column": null,
       "grid_gap": null,
       "grid_row": null,
       "grid_template_areas": null,
       "grid_template_columns": null,
       "grid_template_rows": null,
       "height": null,
       "justify_content": null,
       "justify_items": null,
       "left": null,
       "margin": null,
       "max_height": null,
       "max_width": null,
       "min_height": null,
       "min_width": null,
       "object_fit": null,
       "object_position": null,
       "order": null,
       "overflow": null,
       "overflow_x": null,
       "overflow_y": null,
       "padding": null,
       "right": null,
       "top": null,
       "visibility": null,
       "width": null
      }
     },
     "f8e45285870b48ffa6c46034bf40900b": {
      "model_module": "@jupyter-widgets/controls",
      "model_module_version": "1.5.0",
      "model_name": "DescriptionStyleModel",
      "state": {
       "_model_module": "@jupyter-widgets/controls",
       "_model_module_version": "1.5.0",
       "_model_name": "DescriptionStyleModel",
       "_view_count": null,
       "_view_module": "@jupyter-widgets/base",
       "_view_module_version": "1.2.0",
       "_view_name": "StyleView",
       "description_width": ""
      }
     },
     "f9f01468d7a4412faee66d91811be29a": {
      "model_module": "@jupyter-widgets/controls",
      "model_module_version": "1.5.0",
      "model_name": "DescriptionStyleModel",
      "state": {
       "_model_module": "@jupyter-widgets/controls",
       "_model_module_version": "1.5.0",
       "_model_name": "DescriptionStyleModel",
       "_view_count": null,
       "_view_module": "@jupyter-widgets/base",
       "_view_module_version": "1.2.0",
       "_view_name": "StyleView",
       "description_width": ""
      }
     },
     "fcaf0593808e498ea24dfba85eb7eac9": {
      "model_module": "@jupyter-widgets/controls",
      "model_module_version": "1.5.0",
      "model_name": "HBoxModel",
      "state": {
       "_dom_classes": [],
       "_model_module": "@jupyter-widgets/controls",
       "_model_module_version": "1.5.0",
       "_model_name": "HBoxModel",
       "_view_count": null,
       "_view_module": "@jupyter-widgets/controls",
       "_view_module_version": "1.5.0",
       "_view_name": "HBoxView",
       "box_style": "",
       "children": [
        "IPY_MODEL_2bb63ea148b04758b2a906faf32ce0f4",
        "IPY_MODEL_6a2e63f5ff21400980e741596e8b5a20",
        "IPY_MODEL_d95c86bffa5a4b4ba91efe8e1164732f"
       ],
       "layout": "IPY_MODEL_163d9c8acbf840d081f1f657148e2da8"
      }
     },
     "fe23930b5e8a42b7b2cc671c93b8240c": {
      "model_module": "@jupyter-widgets/controls",
      "model_module_version": "1.5.0",
      "model_name": "HBoxModel",
      "state": {
       "_dom_classes": [],
       "_model_module": "@jupyter-widgets/controls",
       "_model_module_version": "1.5.0",
       "_model_name": "HBoxModel",
       "_view_count": null,
       "_view_module": "@jupyter-widgets/controls",
       "_view_module_version": "1.5.0",
       "_view_name": "HBoxView",
       "box_style": "",
       "children": [
        "IPY_MODEL_913008c69ca54efeaa1ae7a571257e3a",
        "IPY_MODEL_7838fc9cea7e490098ac04413d347d40",
        "IPY_MODEL_889afb8ad7be44f6bb66e7a974dc2069"
       ],
       "layout": "IPY_MODEL_d1ec8314990c4c2a92e471a42735acd2"
      }
     }
    },
    "version_major": 2,
    "version_minor": 0
   }
  }
 },
 "nbformat": 4,
 "nbformat_minor": 5
}
